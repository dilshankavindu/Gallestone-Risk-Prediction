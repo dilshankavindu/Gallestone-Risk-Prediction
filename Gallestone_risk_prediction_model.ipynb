{
 "cells": [
  {
   "cell_type": "code",
   "execution_count": 12,
   "id": "da439210",
   "metadata": {},
   "outputs": [
    {
     "data": {
      "text/plain": [
       "set()"
      ]
     },
     "execution_count": 12,
     "metadata": {},
     "output_type": "execute_result"
    }
   ],
   "source": [
    "# See if training and test sets overlap\n",
    "set(X_train.index) & set(X_test.index)\n"
   ]
  },
  {
   "cell_type": "code",
   "execution_count": 19,
   "id": "150e5418",
   "metadata": {},
   "outputs": [
    {
     "name": "stdout",
     "output_type": "stream",
     "text": [
      "Confusion Matrix:\n",
      "[[29  4]\n",
      " [ 8 23]]\n",
      "\n",
      "Classification Report:\n",
      "              precision    recall  f1-score   support\n",
      "\n",
      "           0       0.78      0.88      0.83        33\n",
      "           1       0.85      0.74      0.79        31\n",
      "\n",
      "    accuracy                           0.81        64\n",
      "   macro avg       0.82      0.81      0.81        64\n",
      "weighted avg       0.82      0.81      0.81        64\n",
      "\n",
      "McFadden's R²: 0.3458\n"
     ]
    },
    {
     "data": {
      "text/plain": [
       "['D:\\\\data sets\\\\scaler.pkl']"
      ]
     },
     "execution_count": 19,
     "metadata": {},
     "output_type": "execute_result"
    }
   ],
   "source": [
    "import pandas as pd\n",
    "import numpy as np\n",
    "from sklearn.model_selection import train_test_split\n",
    "from sklearn.linear_model import LogisticRegression\n",
    "from sklearn.metrics import classification_report, confusion_matrix\n",
    "from sklearn.preprocessing import StandardScaler\n",
    "import joblib\n",
    "\n",
    "\n",
    "df = pd.read_csv(r\"D:\\data sets\\dataset-uci.csv\")\n",
    "\n",
    "\n",
    "features = [\n",
    "    'Gender', 'Hyperlipidemia', 'Alkaline Phosphatase (ALP)',\n",
    "    'Intracellular Water (ICW)', 'Alanin Aminotransferaz (ALT)', 'Vitamin D',\n",
    "    'C-Reactive Protein (CRP)', 'Bone Mass (BM)', 'Aspartat Aminotransferaz (AST)',\n",
    "    'Extracellular Fluid/Total Body Water (ECF/TBW)', 'Low Density Lipoprotein (LDL)','Body Mass Index (BMI)'\n",
    "    \n",
    "]\n",
    "X = df[features]\n",
    "y = df['Gallstone Status']\n",
    "\n",
    "\n",
    "X_train, X_test, y_train, y_test = train_test_split(\n",
    "    X, y, test_size=0.2, random_state=42\n",
    ")\n",
    "\n",
    "\n",
    "scaler = StandardScaler()\n",
    "X_train_scaled = scaler.fit_transform(X_train)\n",
    "X_test_scaled = scaler.transform(X_test)\n",
    "\n",
    "\n",
    "full_model = LogisticRegression(max_iter=1000, solver='lbfgs')\n",
    "full_model.fit(X_train_scaled, y_train)\n",
    "\n",
    "\n",
    "y_pred = full_model.predict(X_test_scaled)\n",
    "\n",
    "\n",
    "print(\"Confusion Matrix:\")\n",
    "print(confusion_matrix(y_test, y_pred))\n",
    "print(\"\\nClassification Report:\")\n",
    "print(classification_report(y_test, y_pred))\n",
    "\n",
    "p_full = np.clip(full_model.predict_proba(X_test_scaled)[:, 1], 1e-10, 1 - 1e-10)\n",
    "ll_full = np.sum(y_test * np.log(p_full) + (1 - y_test) * np.log(1 - p_full))\n",
    "\n",
    "\n",
    "null_model = LogisticRegression(max_iter=1000, solver='lbfgs')\n",
    "null_model.fit(np.zeros((len(y_train), 1)), y_train)  # intercept only\n",
    "p_null = np.clip(null_model.predict_proba(np.zeros((len(y_test), 1)))[:, 1], 1e-10, 1 - 1e-10)\n",
    "ll_null = np.sum(y_test * np.log(p_null) + (1 - y_test) * np.log(1 - p_null))\n",
    "\n",
    "\n",
    "mcfadden_r2 = 1 - (ll_full / ll_null)\n",
    "print(f\"McFadden's R²: {mcfadden_r2:.4f}\")\n",
    "\n",
    "\n",
    "joblib.dump(full_model, r\"D:\\data sets\\gallstone_model.pkl\")\n",
    "joblib.dump(scaler, r\"D:\\data sets\\scaler.pkl\")\n"
   ]
  },
  {
   "cell_type": "code",
   "execution_count": 20,
   "id": "b6be6d0f",
   "metadata": {},
   "outputs": [],
   "source": [
    "coefs = pd.DataFrame({\n",
    "    'Feature': features,\n",
    "    'Coefficient': full_model.coef_[0],\n",
    "    'Mean': scaler.mean_,\n",
    "    'StdDev': np.sqrt(scaler.var_)\n",
    "})\n",
    "\n",
    "\n",
    "intercept = full_model.intercept_[0]\n",
    "\n",
    "\n",
    "coefs.to_csv(r\"D:\\data sets\\logistic_model_coeffs.csv\", index=False)\n",
    "pd.DataFrame({'Intercept': [intercept]}).to_csv(r\"D:\\data sets\\logistic_model_intercept.csv\", index=False)\n"
   ]
  },
  {
   "cell_type": "code",
   "execution_count": 21,
   "id": "f04d470c",
   "metadata": {},
   "outputs": [],
   "source": [
    "pd.DataFrame({\n",
    "    'Metric': ['McFadden_R2'],\n",
    "    'Value': [mcfadden_r2]\n",
    "}).to_csv(r\"D:\\data sets\\model_metrics.csv\", index=False)"
   ]
  },
  {
   "cell_type": "code",
   "execution_count": 23,
   "id": "fe47aab0",
   "metadata": {},
   "outputs": [],
   "source": [
    "model = joblib.load(r\"D:\\data sets\\gallstone_model.pkl\")\n",
    "scaler = joblib.load(r\"D:\\data sets\\scaler.pkl\")\n",
    "\n",
    "\n",
    "df = pd.read_csv(r\"D:\\data sets\\dataset-uci.csv\")\n",
    "\n",
    "\n",
    "features = [\n",
    "    'Gender', 'Hyperlipidemia', 'Alkaline Phosphatase (ALP)',\n",
    "    'Intracellular Water (ICW)', 'Alanin Aminotransferaz (ALT)', 'Vitamin D',\n",
    "    'C-Reactive Protein (CRP)', 'Bone Mass (BM)', 'Aspartat Aminotransferaz (AST)',\n",
    "    'Extracellular Fluid/Total Body Water (ECF/TBW)', 'Low Density Lipoprotein (LDL)',\n",
    "    'Body Mass Index (BMI)'\n",
    "]\n",
    "X = df[features]\n",
    "y = df['Gallstone Status']\n",
    "\n",
    "X_scaled = scaler.transform(X)\n",
    "\n",
    "p_full = np.clip(model.predict_proba(X_scaled)[:, 1], 1e-10, 1 - 1e-10)\n",
    "\n",
    "p_null = np.full_like(p_full, y.mean())\n",
    "\n",
    "pd.DataFrame({\n",
    "    'Actual': y,\n",
    "    'P_Full': p_full,\n",
    "    'P_Null': p_null\n",
    "}).to_csv(r\"D:\\data sets\\mcfadden_input.csv\", index=False)\n"
   ]
  },
  {
   "cell_type": "code",
   "execution_count": null,
   "id": "572e2c2e",
   "metadata": {},
   "outputs": [],
   "source": []
  }
 ],
 "metadata": {
  "kernelspec": {
   "display_name": "Python 3 (ipykernel)",
   "language": "python",
   "name": "python3"
  },
  "language_info": {
   "codemirror_mode": {
    "name": "ipython",
    "version": 3
   },
   "file_extension": ".py",
   "mimetype": "text/x-python",
   "name": "python",
   "nbconvert_exporter": "python",
   "pygments_lexer": "ipython3",
   "version": "3.9.16"
  }
 },
 "nbformat": 4,
 "nbformat_minor": 5
}
